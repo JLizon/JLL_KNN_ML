{
    "cells": [
        {
            "cell_type": "markdown",
            "metadata": {},
            "source": [
                "# Data Upload & transform data"
            ]
        },
        {
            "cell_type": "code",
            "execution_count": 1,
            "metadata": {},
            "outputs": [],
            "source": [
                "import pandas as pd\n",
                "import sqlite3 as sq\n",
                "\n",
                "url_1 = 'https://raw.githubusercontent.com/4GeeksAcademy/k-nearest-neighbors-project-tutorial/main/tmdb_5000_movies.csv'\n",
                "url_2 = 'https://raw.githubusercontent.com/4GeeksAcademy/k-nearest-neighbors-project-tutorial/main/tmdb_5000_credits.csv'\n",
                "\n",
                "movies = pd.read_csv(url_1, sep=',')\n",
                "credits = pd.read_csv(url_2, sep=',')\n",
                "movies.to_csv('/workspaces/JLL_KNN_ML/data/raw/movies.csv', index=False)\n",
                "credits.to_csv('/workspaces/JLL_KNN_ML/data/raw/credits.csv', index=False)\n"
            ]
        },
        {
            "cell_type": "markdown",
            "metadata": {},
            "source": [
                "***Create a SQL database***"
            ]
        },
        {
            "cell_type": "code",
            "execution_count": 2,
            "metadata": {},
            "outputs": [
                {
                    "data": {
                        "text/plain": [
                            "4803"
                        ]
                    },
                    "execution_count": 2,
                    "metadata": {},
                    "output_type": "execute_result"
                }
            ],
            "source": [
                "con = sq.connect(\"../data/raw/movies_database.db\")\n",
                "\n",
                "movies.to_sql(\"movies_table\", con, if_exists = \"replace\", index = False)\n",
                "credits.to_sql(\"credits_table\", con, if_exists = \"replace\", index = False)"
            ]
        },
        {
            "cell_type": "markdown",
            "metadata": {},
            "source": [
                "***Join different data***"
            ]
        },
        {
            "cell_type": "code",
            "execution_count": 3,
            "metadata": {},
            "outputs": [],
            "source": [
                "query = \"\"\"\n",
                "SELECT *\n",
                "FROM movies_table\n",
                "INNER JOIN credits_table\n",
                "USING (title)\n",
                "\"\"\"\n",
                "df_movies = pd.read_sql_query(query, con)\n",
                "con.close()"
            ]
        },
        {
            "cell_type": "markdown",
            "metadata": {},
            "source": [
                "***Import to pandas***"
            ]
        },
        {
            "cell_type": "code",
            "execution_count": 4,
            "metadata": {},
            "outputs": [
                {
                    "data": {
                        "text/html": [
                            "<div>\n",
                            "<style scoped>\n",
                            "    .dataframe tbody tr th:only-of-type {\n",
                            "        vertical-align: middle;\n",
                            "    }\n",
                            "\n",
                            "    .dataframe tbody tr th {\n",
                            "        vertical-align: top;\n",
                            "    }\n",
                            "\n",
                            "    .dataframe thead th {\n",
                            "        text-align: right;\n",
                            "    }\n",
                            "</style>\n",
                            "<table border=\"1\" class=\"dataframe\">\n",
                            "  <thead>\n",
                            "    <tr style=\"text-align: right;\">\n",
                            "      <th></th>\n",
                            "      <th>budget</th>\n",
                            "      <th>genres</th>\n",
                            "      <th>homepage</th>\n",
                            "      <th>id</th>\n",
                            "      <th>keywords</th>\n",
                            "      <th>original_language</th>\n",
                            "      <th>original_title</th>\n",
                            "      <th>overview</th>\n",
                            "      <th>popularity</th>\n",
                            "      <th>production_companies</th>\n",
                            "      <th>...</th>\n",
                            "      <th>runtime</th>\n",
                            "      <th>spoken_languages</th>\n",
                            "      <th>status</th>\n",
                            "      <th>tagline</th>\n",
                            "      <th>title</th>\n",
                            "      <th>vote_average</th>\n",
                            "      <th>vote_count</th>\n",
                            "      <th>movie_id</th>\n",
                            "      <th>cast</th>\n",
                            "      <th>crew</th>\n",
                            "    </tr>\n",
                            "  </thead>\n",
                            "  <tbody>\n",
                            "    <tr>\n",
                            "      <th>0</th>\n",
                            "      <td>237000000</td>\n",
                            "      <td>[{\"id\": 28, \"name\": \"Action\"}, {\"id\": 12, \"nam...</td>\n",
                            "      <td>http://www.avatarmovie.com/</td>\n",
                            "      <td>19995</td>\n",
                            "      <td>[{\"id\": 1463, \"name\": \"culture clash\"}, {\"id\":...</td>\n",
                            "      <td>en</td>\n",
                            "      <td>Avatar</td>\n",
                            "      <td>In the 22nd century, a paraplegic Marine is di...</td>\n",
                            "      <td>150.437577</td>\n",
                            "      <td>[{\"name\": \"Ingenious Film Partners\", \"id\": 289...</td>\n",
                            "      <td>...</td>\n",
                            "      <td>162.0</td>\n",
                            "      <td>[{\"iso_639_1\": \"en\", \"name\": \"English\"}, {\"iso...</td>\n",
                            "      <td>Released</td>\n",
                            "      <td>Enter the World of Pandora.</td>\n",
                            "      <td>Avatar</td>\n",
                            "      <td>7.2</td>\n",
                            "      <td>11800</td>\n",
                            "      <td>19995</td>\n",
                            "      <td>[{\"cast_id\": 242, \"character\": \"Jake Sully\", \"...</td>\n",
                            "      <td>[{\"credit_id\": \"52fe48009251416c750aca23\", \"de...</td>\n",
                            "    </tr>\n",
                            "    <tr>\n",
                            "      <th>1</th>\n",
                            "      <td>300000000</td>\n",
                            "      <td>[{\"id\": 12, \"name\": \"Adventure\"}, {\"id\": 14, \"...</td>\n",
                            "      <td>http://disney.go.com/disneypictures/pirates/</td>\n",
                            "      <td>285</td>\n",
                            "      <td>[{\"id\": 270, \"name\": \"ocean\"}, {\"id\": 726, \"na...</td>\n",
                            "      <td>en</td>\n",
                            "      <td>Pirates of the Caribbean: At World's End</td>\n",
                            "      <td>Captain Barbossa, long believed to be dead, ha...</td>\n",
                            "      <td>139.082615</td>\n",
                            "      <td>[{\"name\": \"Walt Disney Pictures\", \"id\": 2}, {\"...</td>\n",
                            "      <td>...</td>\n",
                            "      <td>169.0</td>\n",
                            "      <td>[{\"iso_639_1\": \"en\", \"name\": \"English\"}]</td>\n",
                            "      <td>Released</td>\n",
                            "      <td>At the end of the world, the adventure begins.</td>\n",
                            "      <td>Pirates of the Caribbean: At World's End</td>\n",
                            "      <td>6.9</td>\n",
                            "      <td>4500</td>\n",
                            "      <td>285</td>\n",
                            "      <td>[{\"cast_id\": 4, \"character\": \"Captain Jack Spa...</td>\n",
                            "      <td>[{\"credit_id\": \"52fe4232c3a36847f800b579\", \"de...</td>\n",
                            "    </tr>\n",
                            "    <tr>\n",
                            "      <th>2</th>\n",
                            "      <td>245000000</td>\n",
                            "      <td>[{\"id\": 28, \"name\": \"Action\"}, {\"id\": 12, \"nam...</td>\n",
                            "      <td>http://www.sonypictures.com/movies/spectre/</td>\n",
                            "      <td>206647</td>\n",
                            "      <td>[{\"id\": 470, \"name\": \"spy\"}, {\"id\": 818, \"name...</td>\n",
                            "      <td>en</td>\n",
                            "      <td>Spectre</td>\n",
                            "      <td>A cryptic message from Bond’s past sends him o...</td>\n",
                            "      <td>107.376788</td>\n",
                            "      <td>[{\"name\": \"Columbia Pictures\", \"id\": 5}, {\"nam...</td>\n",
                            "      <td>...</td>\n",
                            "      <td>148.0</td>\n",
                            "      <td>[{\"iso_639_1\": \"fr\", \"name\": \"Fran\\u00e7ais\"},...</td>\n",
                            "      <td>Released</td>\n",
                            "      <td>A Plan No One Escapes</td>\n",
                            "      <td>Spectre</td>\n",
                            "      <td>6.3</td>\n",
                            "      <td>4466</td>\n",
                            "      <td>206647</td>\n",
                            "      <td>[{\"cast_id\": 1, \"character\": \"James Bond\", \"cr...</td>\n",
                            "      <td>[{\"credit_id\": \"54805967c3a36829b5002c41\", \"de...</td>\n",
                            "    </tr>\n",
                            "  </tbody>\n",
                            "</table>\n",
                            "<p>3 rows × 23 columns</p>\n",
                            "</div>"
                        ],
                        "text/plain": [
                            "      budget                                             genres  \\\n",
                            "0  237000000  [{\"id\": 28, \"name\": \"Action\"}, {\"id\": 12, \"nam...   \n",
                            "1  300000000  [{\"id\": 12, \"name\": \"Adventure\"}, {\"id\": 14, \"...   \n",
                            "2  245000000  [{\"id\": 28, \"name\": \"Action\"}, {\"id\": 12, \"nam...   \n",
                            "\n",
                            "                                       homepage      id  \\\n",
                            "0                   http://www.avatarmovie.com/   19995   \n",
                            "1  http://disney.go.com/disneypictures/pirates/     285   \n",
                            "2   http://www.sonypictures.com/movies/spectre/  206647   \n",
                            "\n",
                            "                                            keywords original_language  \\\n",
                            "0  [{\"id\": 1463, \"name\": \"culture clash\"}, {\"id\":...                en   \n",
                            "1  [{\"id\": 270, \"name\": \"ocean\"}, {\"id\": 726, \"na...                en   \n",
                            "2  [{\"id\": 470, \"name\": \"spy\"}, {\"id\": 818, \"name...                en   \n",
                            "\n",
                            "                             original_title  \\\n",
                            "0                                    Avatar   \n",
                            "1  Pirates of the Caribbean: At World's End   \n",
                            "2                                   Spectre   \n",
                            "\n",
                            "                                            overview  popularity  \\\n",
                            "0  In the 22nd century, a paraplegic Marine is di...  150.437577   \n",
                            "1  Captain Barbossa, long believed to be dead, ha...  139.082615   \n",
                            "2  A cryptic message from Bond’s past sends him o...  107.376788   \n",
                            "\n",
                            "                                production_companies  ... runtime  \\\n",
                            "0  [{\"name\": \"Ingenious Film Partners\", \"id\": 289...  ...   162.0   \n",
                            "1  [{\"name\": \"Walt Disney Pictures\", \"id\": 2}, {\"...  ...   169.0   \n",
                            "2  [{\"name\": \"Columbia Pictures\", \"id\": 5}, {\"nam...  ...   148.0   \n",
                            "\n",
                            "                                    spoken_languages    status  \\\n",
                            "0  [{\"iso_639_1\": \"en\", \"name\": \"English\"}, {\"iso...  Released   \n",
                            "1           [{\"iso_639_1\": \"en\", \"name\": \"English\"}]  Released   \n",
                            "2  [{\"iso_639_1\": \"fr\", \"name\": \"Fran\\u00e7ais\"},...  Released   \n",
                            "\n",
                            "                                          tagline  \\\n",
                            "0                     Enter the World of Pandora.   \n",
                            "1  At the end of the world, the adventure begins.   \n",
                            "2                           A Plan No One Escapes   \n",
                            "\n",
                            "                                      title vote_average vote_count movie_id  \\\n",
                            "0                                    Avatar          7.2      11800    19995   \n",
                            "1  Pirates of the Caribbean: At World's End          6.9       4500      285   \n",
                            "2                                   Spectre          6.3       4466   206647   \n",
                            "\n",
                            "                                                cast  \\\n",
                            "0  [{\"cast_id\": 242, \"character\": \"Jake Sully\", \"...   \n",
                            "1  [{\"cast_id\": 4, \"character\": \"Captain Jack Spa...   \n",
                            "2  [{\"cast_id\": 1, \"character\": \"James Bond\", \"cr...   \n",
                            "\n",
                            "                                                crew  \n",
                            "0  [{\"credit_id\": \"52fe48009251416c750aca23\", \"de...  \n",
                            "1  [{\"credit_id\": \"52fe4232c3a36847f800b579\", \"de...  \n",
                            "2  [{\"credit_id\": \"54805967c3a36829b5002c41\", \"de...  \n",
                            "\n",
                            "[3 rows x 23 columns]"
                        ]
                    },
                    "execution_count": 4,
                    "metadata": {},
                    "output_type": "execute_result"
                }
            ],
            "source": [
                "df_movies.head(3)"
            ]
        },
        {
            "cell_type": "markdown",
            "metadata": {},
            "source": [
                "***Cleaning data***"
            ]
        },
        {
            "cell_type": "code",
            "execution_count": 5,
            "metadata": {},
            "outputs": [],
            "source": [
                "columns = ['movie_id', 'title', 'overview', 'genres', 'keywords', 'cast', 'crew']\n",
                "df_movies = df_movies[columns]"
            ]
        },
        {
            "cell_type": "markdown",
            "metadata": {},
            "source": [
                "* Select information   "
            ]
        },
        {
            "cell_type": "code",
            "execution_count": 6,
            "metadata": {},
            "outputs": [],
            "source": [
                "import json\n",
                "\n",
                "df_movies['genres'] = df_movies['genres'].apply(json.loads)\n",
                "df_movies['genres'] = df_movies['genres'].apply(lambda x: [i['name'] for i in x])\n",
                "df_movies['keywords'] = df_movies['keywords'].apply(json.loads)\n",
                "df_movies['keywords'] = df_movies['keywords'].apply(lambda x: [i['name'] for i in x])\n",
                "df_movies['cast'] = df_movies['cast'].apply(json.loads)\n",
                "df_movies['cast'] = df_movies['cast'].apply(lambda x: [i['name'] for i in x][:3])\n",
                "df_movies['crew'] = df_movies['crew'].apply(json.loads)\n",
                "df_movies['crew'] = df_movies['crew'].apply(lambda x: [i['name'] for i in x if i['job'] == 'Director'])\n",
                "df_movies['overview'] = df_movies['overview'].apply(lambda x: [x])"
            ]
        },
        {
            "cell_type": "markdown",
            "metadata": {},
            "source": [
                "* Clear spaces of names"
            ]
        },
        {
            "cell_type": "code",
            "execution_count": 7,
            "metadata": {},
            "outputs": [],
            "source": [
                "df_movies[\"cast\"] = df_movies[\"cast\"].apply(lambda x: [name.replace(' ', '') for name in x])\n",
                "df_movies[\"genres\"] = df_movies[\"genres\"].apply(lambda x: [name.replace(' ', '') for name in x])\n",
                "df_movies[\"keywords\"] = df_movies[\"keywords\"].apply(lambda x: [name.replace(' ', '') for name in x])\n",
                "df_movies[\"crew\"] = df_movies[\"crew\"].apply(lambda x: [name.replace(' ', '') for name in x])"
            ]
        },
        {
            "cell_type": "code",
            "execution_count": 8,
            "metadata": {},
            "outputs": [
                {
                    "data": {
                        "text/html": [
                            "<div>\n",
                            "<style scoped>\n",
                            "    .dataframe tbody tr th:only-of-type {\n",
                            "        vertical-align: middle;\n",
                            "    }\n",
                            "\n",
                            "    .dataframe tbody tr th {\n",
                            "        vertical-align: top;\n",
                            "    }\n",
                            "\n",
                            "    .dataframe thead th {\n",
                            "        text-align: right;\n",
                            "    }\n",
                            "</style>\n",
                            "<table border=\"1\" class=\"dataframe\">\n",
                            "  <thead>\n",
                            "    <tr style=\"text-align: right;\">\n",
                            "      <th></th>\n",
                            "      <th>movie_id</th>\n",
                            "      <th>title</th>\n",
                            "      <th>overview</th>\n",
                            "      <th>genres</th>\n",
                            "      <th>keywords</th>\n",
                            "      <th>cast</th>\n",
                            "      <th>crew</th>\n",
                            "    </tr>\n",
                            "  </thead>\n",
                            "  <tbody>\n",
                            "    <tr>\n",
                            "      <th>0</th>\n",
                            "      <td>19995</td>\n",
                            "      <td>Avatar</td>\n",
                            "      <td>[In the 22nd century, a paraplegic Marine is d...</td>\n",
                            "      <td>[Action, Adventure, Fantasy, ScienceFiction]</td>\n",
                            "      <td>[cultureclash, future, spacewar, spacecolony, ...</td>\n",
                            "      <td>[SamWorthington, ZoeSaldana, SigourneyWeaver]</td>\n",
                            "      <td>[JamesCameron]</td>\n",
                            "    </tr>\n",
                            "    <tr>\n",
                            "      <th>1</th>\n",
                            "      <td>285</td>\n",
                            "      <td>Pirates of the Caribbean: At World's End</td>\n",
                            "      <td>[Captain Barbossa, long believed to be dead, h...</td>\n",
                            "      <td>[Adventure, Fantasy, Action]</td>\n",
                            "      <td>[ocean, drugabuse, exoticisland, eastindiatrad...</td>\n",
                            "      <td>[JohnnyDepp, OrlandoBloom, KeiraKnightley]</td>\n",
                            "      <td>[GoreVerbinski]</td>\n",
                            "    </tr>\n",
                            "    <tr>\n",
                            "      <th>2</th>\n",
                            "      <td>206647</td>\n",
                            "      <td>Spectre</td>\n",
                            "      <td>[A cryptic message from Bond’s past sends him ...</td>\n",
                            "      <td>[Action, Adventure, Crime]</td>\n",
                            "      <td>[spy, basedonnovel, secretagent, sequel, mi6, ...</td>\n",
                            "      <td>[DanielCraig, ChristophWaltz, LéaSeydoux]</td>\n",
                            "      <td>[SamMendes]</td>\n",
                            "    </tr>\n",
                            "    <tr>\n",
                            "      <th>3</th>\n",
                            "      <td>49026</td>\n",
                            "      <td>The Dark Knight Rises</td>\n",
                            "      <td>[Following the death of District Attorney Harv...</td>\n",
                            "      <td>[Action, Crime, Drama, Thriller]</td>\n",
                            "      <td>[dccomics, crimefighter, terrorist, secretiden...</td>\n",
                            "      <td>[ChristianBale, MichaelCaine, GaryOldman]</td>\n",
                            "      <td>[ChristopherNolan]</td>\n",
                            "    </tr>\n",
                            "    <tr>\n",
                            "      <th>4</th>\n",
                            "      <td>49529</td>\n",
                            "      <td>John Carter</td>\n",
                            "      <td>[John Carter is a war-weary, former military c...</td>\n",
                            "      <td>[Action, Adventure, ScienceFiction]</td>\n",
                            "      <td>[basedonnovel, mars, medallion, spacetravel, p...</td>\n",
                            "      <td>[TaylorKitsch, LynnCollins, SamanthaMorton]</td>\n",
                            "      <td>[AndrewStanton]</td>\n",
                            "    </tr>\n",
                            "  </tbody>\n",
                            "</table>\n",
                            "</div>"
                        ],
                        "text/plain": [
                            "   movie_id                                     title  \\\n",
                            "0     19995                                    Avatar   \n",
                            "1       285  Pirates of the Caribbean: At World's End   \n",
                            "2    206647                                   Spectre   \n",
                            "3     49026                     The Dark Knight Rises   \n",
                            "4     49529                               John Carter   \n",
                            "\n",
                            "                                            overview  \\\n",
                            "0  [In the 22nd century, a paraplegic Marine is d...   \n",
                            "1  [Captain Barbossa, long believed to be dead, h...   \n",
                            "2  [A cryptic message from Bond’s past sends him ...   \n",
                            "3  [Following the death of District Attorney Harv...   \n",
                            "4  [John Carter is a war-weary, former military c...   \n",
                            "\n",
                            "                                         genres  \\\n",
                            "0  [Action, Adventure, Fantasy, ScienceFiction]   \n",
                            "1                  [Adventure, Fantasy, Action]   \n",
                            "2                    [Action, Adventure, Crime]   \n",
                            "3              [Action, Crime, Drama, Thriller]   \n",
                            "4           [Action, Adventure, ScienceFiction]   \n",
                            "\n",
                            "                                            keywords  \\\n",
                            "0  [cultureclash, future, spacewar, spacecolony, ...   \n",
                            "1  [ocean, drugabuse, exoticisland, eastindiatrad...   \n",
                            "2  [spy, basedonnovel, secretagent, sequel, mi6, ...   \n",
                            "3  [dccomics, crimefighter, terrorist, secretiden...   \n",
                            "4  [basedonnovel, mars, medallion, spacetravel, p...   \n",
                            "\n",
                            "                                            cast                crew  \n",
                            "0  [SamWorthington, ZoeSaldana, SigourneyWeaver]      [JamesCameron]  \n",
                            "1     [JohnnyDepp, OrlandoBloom, KeiraKnightley]     [GoreVerbinski]  \n",
                            "2      [DanielCraig, ChristophWaltz, LéaSeydoux]         [SamMendes]  \n",
                            "3      [ChristianBale, MichaelCaine, GaryOldman]  [ChristopherNolan]  \n",
                            "4    [TaylorKitsch, LynnCollins, SamanthaMorton]     [AndrewStanton]  "
                        ]
                    },
                    "execution_count": 8,
                    "metadata": {},
                    "output_type": "execute_result"
                }
            ],
            "source": [
                "df_movies.head()"
            ]
        },
        {
            "cell_type": "markdown",
            "metadata": {},
            "source": [
                "* Create a new column: tags"
            ]
        },
        {
            "cell_type": "code",
            "execution_count": 9,
            "metadata": {},
            "outputs": [],
            "source": [
                "df_movies[\"overview\"] = df_movies[\"overview\"].apply(lambda x: [str(x)])\n",
                "df_movies[\"genres\"] = df_movies[\"genres\"].apply(lambda x: [str(genre) for genre in x])\n",
                "df_movies[\"keywords\"] = df_movies[\"keywords\"].apply(lambda x: [str(keyword) for keyword in x])\n",
                "df_movies[\"cast\"] = df_movies[\"cast\"].apply(lambda x: [str(actor) for actor in x])\n",
                "df_movies[\"crew\"] = df_movies[\"crew\"].apply(lambda x: [str(crew_member) for crew_member in x])\n",
                "\n",
                "df_movies[\"tags\"] = df_movies[\"overview\"] + df_movies[\"genres\"] + df_movies[\"keywords\"] + df_movies[\"cast\"] + df_movies[\"crew\"]\n",
                "df_movies[\"tags\"] = df_movies[\"tags\"].apply(lambda x: \",\".join(x).replace(\",\", \" \"))\n",
                "\n",
                "df_movies.drop(columns = [\"genres\", \"keywords\", \"cast\", \"crew\", \"overview\"], inplace = True)\n"
            ]
        },
        {
            "cell_type": "code",
            "execution_count": 10,
            "metadata": {},
            "outputs": [
                {
                    "data": {
                        "text/html": [
                            "<div>\n",
                            "<style scoped>\n",
                            "    .dataframe tbody tr th:only-of-type {\n",
                            "        vertical-align: middle;\n",
                            "    }\n",
                            "\n",
                            "    .dataframe tbody tr th {\n",
                            "        vertical-align: top;\n",
                            "    }\n",
                            "\n",
                            "    .dataframe thead th {\n",
                            "        text-align: right;\n",
                            "    }\n",
                            "</style>\n",
                            "<table border=\"1\" class=\"dataframe\">\n",
                            "  <thead>\n",
                            "    <tr style=\"text-align: right;\">\n",
                            "      <th></th>\n",
                            "      <th>movie_id</th>\n",
                            "      <th>title</th>\n",
                            "      <th>tags</th>\n",
                            "    </tr>\n",
                            "  </thead>\n",
                            "  <tbody>\n",
                            "    <tr>\n",
                            "      <th>0</th>\n",
                            "      <td>19995</td>\n",
                            "      <td>Avatar</td>\n",
                            "      <td>['In the 22nd century  a paraplegic Marine is ...</td>\n",
                            "    </tr>\n",
                            "    <tr>\n",
                            "      <th>1</th>\n",
                            "      <td>285</td>\n",
                            "      <td>Pirates of the Caribbean: At World's End</td>\n",
                            "      <td>['Captain Barbossa  long believed to be dead  ...</td>\n",
                            "    </tr>\n",
                            "    <tr>\n",
                            "      <th>2</th>\n",
                            "      <td>206647</td>\n",
                            "      <td>Spectre</td>\n",
                            "      <td>['A cryptic message from Bond’s past sends him...</td>\n",
                            "    </tr>\n",
                            "    <tr>\n",
                            "      <th>3</th>\n",
                            "      <td>49026</td>\n",
                            "      <td>The Dark Knight Rises</td>\n",
                            "      <td>[\"Following the death of District Attorney Har...</td>\n",
                            "    </tr>\n",
                            "    <tr>\n",
                            "      <th>4</th>\n",
                            "      <td>49529</td>\n",
                            "      <td>John Carter</td>\n",
                            "      <td>[\"John Carter is a war-weary  former military ...</td>\n",
                            "    </tr>\n",
                            "  </tbody>\n",
                            "</table>\n",
                            "</div>"
                        ],
                        "text/plain": [
                            "   movie_id                                     title  \\\n",
                            "0     19995                                    Avatar   \n",
                            "1       285  Pirates of the Caribbean: At World's End   \n",
                            "2    206647                                   Spectre   \n",
                            "3     49026                     The Dark Knight Rises   \n",
                            "4     49529                               John Carter   \n",
                            "\n",
                            "                                                tags  \n",
                            "0  ['In the 22nd century  a paraplegic Marine is ...  \n",
                            "1  ['Captain Barbossa  long believed to be dead  ...  \n",
                            "2  ['A cryptic message from Bond’s past sends him...  \n",
                            "3  [\"Following the death of District Attorney Har...  \n",
                            "4  [\"John Carter is a war-weary  former military ...  "
                        ]
                    },
                    "execution_count": 10,
                    "metadata": {},
                    "output_type": "execute_result"
                }
            ],
            "source": [
                "df_movies.head()"
            ]
        },
        {
            "cell_type": "markdown",
            "metadata": {},
            "source": [
                "* Saving the data"
            ]
        },
        {
            "cell_type": "code",
            "execution_count": 11,
            "metadata": {},
            "outputs": [
                {
                    "data": {
                        "text/plain": [
                            "4803"
                        ]
                    },
                    "execution_count": 11,
                    "metadata": {},
                    "output_type": "execute_result"
                }
            ],
            "source": [
                "df_movies.to_csv('../data/processed/data_movies_clean.csv', index=False)\n",
                "con = sq.connect('../data/raw/movies_database.db')\n",
                "movies.to_sql('data_movies', con, if_exists = 'replace', index = False)"
            ]
        },
        {
            "cell_type": "markdown",
            "metadata": {},
            "source": [
                "# KNN Model"
            ]
        },
        {
            "cell_type": "code",
            "execution_count": 22,
            "metadata": {},
            "outputs": [
                {
                    "name": "stdout",
                    "output_type": "stream",
                    "text": [
                        "Film recommendations 'Rocky'\n",
                        "- Film: Rocky Balboa\n",
                        "- Film: Creed\n",
                        "- Film: Cinderella Man\n",
                        "- Film: The Fighter\n",
                        "- Film: Undisputed\n"
                    ]
                }
            ],
            "source": [
                "from sklearn.feature_extraction.text import TfidfVectorizer\n",
                "from sklearn.neighbors import NearestNeighbors\n",
                "\n",
                "vectorizer = TfidfVectorizer()\n",
                "tfidf_matrix = vectorizer.fit_transform(df_movies[\"tags\"])\n",
                "\n",
                "model = NearestNeighbors(n_neighbors = 6, algorithm = \"brute\", metric = \"cosine\")\n",
                "model.fit(tfidf_matrix)\n",
                "\n",
                "def get_movie_recommendations(movie_title):\n",
                "    movie_index = df_movies[df_movies[\"title\"] == movie_title].index[0]\n",
                "    distances, indices = model.kneighbors(tfidf_matrix[movie_index])\n",
                "    similar_movies = [(df_movies[\"title\"][i], distances[0][j]) for j, i in enumerate(indices[0])]\n",
                "    return similar_movies[1:]\n",
                "\n",
                "input_movie = \"Rocky\"\n",
                "recommendations = get_movie_recommendations(input_movie)\n",
                "print(\"Film recommendations '{}'\".format(input_movie))\n",
                "for movie, distance in recommendations:\n",
                "    print(\"- Film: {}\".format(movie))"
            ]
        }
    ],
    "metadata": {
        "kernelspec": {
            "display_name": "Python 3.8.13 64-bit ('3.8.13')",
            "language": "python",
            "name": "python3"
        },
        "language_info": {
            "codemirror_mode": {
                "name": "ipython",
                "version": 3
            },
            "file_extension": ".py",
            "mimetype": "text/x-python",
            "name": "python",
            "nbconvert_exporter": "python",
            "pygments_lexer": "ipython3",
            "version": "3.11.4"
        },
        "orig_nbformat": 4,
        "vscode": {
            "interpreter": {
                "hash": "110cc1dee26208153f2972f08a2ad52b6a56238dc66d48e87fb757ef2996db56"
            }
        }
    },
    "nbformat": 4,
    "nbformat_minor": 2
}
